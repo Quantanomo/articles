{
 "cells": [
  {
   "cell_type": "code",
   "execution_count": 1,
   "metadata": {},
   "outputs": [],
   "source": [
    "import pandas as pd\n",
    "import numpy as np\n",
    "import matplotlib.pyplot as plt\n",
    "import seaborn as sns\n",
    "%matplotlib inline\n",
    "\n",
    "from sklearn.tree import DecisionTreeClassifier\n",
    "from sklearn.tree import export_graphviz\n",
    "from sklearn.model_selection import train_test_split\n",
    "from sklearn.metrics import accuracy_score\n",
    "from sklearn.metrics import confusion_matrix\n",
    "\n",
    "# Для жадного перебора\n",
    "from sklearn.model_selection import GridSearchCV\n",
    "\n",
    "from sklearn.metrics import precision_score\n",
    "from sklearn.model_selection import cross_val_score"
   ]
  },
  {
   "cell_type": "code",
   "execution_count": 2,
   "metadata": {},
   "outputs": [],
   "source": [
    "# Для отображения графики\n",
    "from IPython.display import SVG\n",
    "from graphviz import Source\n",
    "from IPython.display import display\n",
    "\n",
    "from IPython.display import HTML\n",
    "style = \"<style>svg{width:50% !important;height:50% !important;}</style>\"\n",
    "#HTML(style)"
   ]
  },
  {
   "cell_type": "markdown",
   "metadata": {},
   "source": [
    "## Загрузка данных"
   ]
  },
  {
   "cell_type": "code",
   "execution_count": 40,
   "metadata": {},
   "outputs": [],
   "source": [
    "# Загружаю датасет из своей директории\n",
    "data = pd.read_csv(\"https://raw.githubusercontent.com/Quantanomo/data_sets/master/BlackFriday.csv\", na_values=\"NaN\")"
   ]
  },
  {
   "cell_type": "markdown",
   "metadata": {},
   "source": [
    "## Предобработка"
   ]
  },
  {
   "cell_type": "code",
   "execution_count": 41,
   "metadata": {},
   "outputs": [],
   "source": [
    "# Удаляю ненужные столбцы\n",
    "data.drop(['Product_ID', 'Product_Category_1', 'Product_Category_2', 'Product_Category_3'], axis = 1, inplace = True)\n",
    "\n",
    "# Группирую по пользователям сумму покупок и удаляю User_id\n",
    "col_names = data.iloc[:,:-1].columns.tolist()\n",
    "data_new = data.groupby(col_names).agg('sum').reset_index()\n",
    "data_new.drop(columns = 'User_ID', inplace = True)\n",
    "\n",
    "data_new.Gender.replace(['F', 'M'], [0,1], inplace = True)\n",
    "data_new.Age.replace(['0-17', '18-25', '26-35', '36-45', '46-50', '51-55', '55+'], [1, 2, 3, 4, 5, 6, 7], inplace = True)\n",
    "data_new.Stay_In_Current_City_Years.replace(['0', '1', '2', '3', '4+'], [1,2,3,4,5], inplace = True)\n",
    "data_new = data_new.drop(columns = 'City_Category').join(pd.get_dummies(data_new.City_Category))"
   ]
  },
  {
   "cell_type": "code",
   "execution_count": 26,
   "metadata": {},
   "outputs": [
    {
     "data": {
      "text/plain": [
       "1    5364\n",
       "2     456\n",
       "3      62\n",
       "4       7\n",
       "5       2\n",
       "Name: Cat_Purchase, dtype: int64"
      ]
     },
     "execution_count": 26,
     "metadata": {},
     "output_type": "execute_result"
    }
   ],
   "source": [
    "step = round((data_new.Purchase.max() - data_new.Purchase.min()) / 5).astype('int')\n",
    "    \n",
    "data_new = data_new.assign(Cat_Purchase = 0)\n",
    "data_new.loc[data_new.Purchase < 2142643, 'Cat_Purchase'] = 1\n",
    "data_new.loc[(data_new.Purchase >= 2142643) & (data_new.Purchase < 4241178), 'Cat_Purchase'] = 2\n",
    "data_new.loc[(data_new.Purchase >= 4241178) & (data_new.Purchase < 6339713), 'Cat_Purchase'] = 3\n",
    "data_new.loc[(data_new.Purchase >= 6339713) & (data_new.Purchase < 8438248), 'Cat_Purchase'] = 4\n",
    "data_new.loc[data_new.Purchase >= 8438248, 'Cat_Purchase'] = 5\n",
    "\n",
    "#data_new.drop(columns = 'Purchase', inplace = True)\n",
    "\n",
    "data_new.Cat_Purchase.value_counts()"
   ]
  },
  {
   "cell_type": "code",
   "execution_count": 46,
   "metadata": {},
   "outputs": [
    {
     "data": {
      "text/plain": [
       "1    4270\n",
       "2    1008\n",
       "3     613\n",
       "Name: Cat_Purchase, dtype: int64"
      ]
     },
     "execution_count": 46,
     "metadata": {},
     "output_type": "execute_result"
    }
   ],
   "source": [
    "data_new = data_new.assign(Cat_Purchase = 0)\n",
    "data_new.loc[data_new.Purchase < 1000000, 'Cat_Purchase'] = 1\n",
    "data_new.loc[(data_new.Purchase >= 1000000) & (data_new.Purchase < 2000000), 'Cat_Purchase'] = 2\n",
    "data_new.loc[data_new.Purchase >= 2000000, 'Cat_Purchase'] = 3\n",
    "\n",
    "data_new.drop(columns = 'Purchase', inplace = True)\n",
    "data_new.Cat_Purchase.value_counts()"
   ]
  },
  {
   "cell_type": "code",
   "execution_count": 47,
   "metadata": {},
   "outputs": [
    {
     "data": {
      "text/plain": [
       "3    4270\n",
       "2    4270\n",
       "1    4270\n",
       "Name: Cat_Purchase, dtype: int64"
      ]
     },
     "execution_count": 47,
     "metadata": {},
     "output_type": "execute_result"
    }
   ],
   "source": [
    "# Уровняю группы за счет добавления дублей\n",
    "max_size = data_new['Cat_Purchase'].value_counts().max()\n",
    "lst = [data_new]\n",
    "for class_index, group in data_new.groupby('Cat_Purchase'):\n",
    "    lst.append(group.sample(max_size-len(group), replace=True))\n",
    "frame_new = pd.concat(lst)\n",
    "\n",
    "frame_new.Cat_Purchase.value_counts()"
   ]
  },
  {
   "cell_type": "markdown",
   "metadata": {},
   "source": [
    "## Модель"
   ]
  },
  {
   "cell_type": "code",
   "execution_count": 48,
   "metadata": {},
   "outputs": [],
   "source": [
    "# Разделю данные на train и test в пропорции 0,75/0,25\n",
    "x = frame_new.drop('Cat_Purchase', axis=1)\n",
    "y = frame_new.Cat_Purchase\n",
    "\n",
    "x_train, x_test, y_train, y_test = train_test_split(x,y, test_size = 0.25, random_state=42)"
   ]
  },
  {
   "cell_type": "code",
   "execution_count": 58,
   "metadata": {},
   "outputs": [],
   "source": [
    "# Создам модель дерева с дефолтными настройками\n",
    "dt = DecisionTreeClassifier()\n",
    "\n",
    "# Определю параметры для теста лучшей модели\n",
    "parametrs = {'criterion': ['gini', 'entropy'],\n",
    "             'max_depth': range(1,5), \n",
    "             'min_samples_split': range(2,5), \n",
    "             'min_samples_leaf': range(1,5)}"
   ]
  },
  {
   "cell_type": "code",
   "execution_count": 73,
   "metadata": {},
   "outputs": [
    {
     "name": "stdout",
     "output_type": "stream",
     "text": [
      "DecisionTreeClassifier(ccp_alpha=0.0, class_weight=None, criterion='gini',\n",
      "                       max_depth=4, max_features=None, max_leaf_nodes=None,\n",
      "                       min_impurity_decrease=0.0, min_impurity_split=None,\n",
      "                       min_samples_leaf=1, min_samples_split=2,\n",
      "                       min_weight_fraction_leaf=0.0, presort='deprecated',\n",
      "                       random_state=None, splitter='best')\n"
     ]
    }
   ],
   "source": [
    "# Найду модель с лучшим качеством. Буду использовать жадный алгоритм перебора параметров. \n",
    "# Если необходимо быстро, но не точно - использую RandomizedSearchCV\n",
    "search = GridSearchCV(dt, parametrs, cv=5)\n",
    "search.fit(x_train,y_train)\n",
    "\n",
    "# Определим лучшую модель\n",
    "best_tree = search.best_estimator_\n",
    "print(best_tree)"
   ]
  },
  {
   "cell_type": "code",
   "execution_count": 60,
   "metadata": {},
   "outputs": [],
   "source": [
    "# Прогнозирую класс на тестовой выборке\n",
    "predicted = best_tree.predict(x_test)"
   ]
  },
  {
   "cell_type": "code",
   "execution_count": 74,
   "metadata": {},
   "outputs": [
    {
     "data": {
      "text/plain": [
       "[Text(0, 0.5, '1'), Text(0, 1.5, '2'), Text(0, 2.5, '3')]"
      ]
     },
     "execution_count": 74,
     "metadata": {},
     "output_type": "execute_result"
    },
    {
     "data": {
      "image/png": "[encoded data removed]",
      "text/plain": [
       "<Figure size 720x576 with 2 Axes>"
      ]
     },
     "metadata": {
      "needs_background": "light"
     },
     "output_type": "display_data"
    }
   ],
   "source": [
    "# Строю матрицу ошибок\n",
    "df = confusion_matrix(y_test,predicted)\n",
    "\n",
    "# Визуализируем матрицу\n",
    "plt.figure(figsize=(10, 8))\n",
    "ax = plt.subplot()\n",
    "sns.heatmap(df, annot=True, ax = ax)\n",
    "\n",
    "ax.set_xlabel('Predicted labels')\n",
    "ax.set_ylabel('True labels')\n",
    "ax.set_title('Confusion Matrix')\n",
    "ax.xaxis.set_ticklabels(['1','2','3'])\n",
    "ax.yaxis.set_ticklabels(['1','2','3'])"
   ]
  },
  {
   "cell_type": "code",
   "execution_count": 75,
   "metadata": {},
   "outputs": [
    {
     "name": "stdout",
     "output_type": "stream",
     "text": [
      "Точность модели: 0.5391820168591945\n"
     ]
    }
   ],
   "source": [
    "# Смотрю точность модели\n",
    "print('Точность модели:', accuracy_score(y_test,predicted))"
   ]
  },
  {
   "cell_type": "code",
   "execution_count": 76,
   "metadata": {},
   "outputs": [
    {
     "data": {
      "text/plain": [
       "'dtree_render.png'"
      ]
     },
     "execution_count": 76,
     "metadata": {},
     "output_type": "execute_result"
    }
   ],
   "source": [
    "graph = Source(export_graphviz(best_tree, out_file=None\n",
    "                                   , feature_names = list(x), class_names=['1','2','3']\n",
    "                                   , filled = True))\n",
    "graph.format = 'png'\n",
    "graph.render('dtree_render',view=True)"
   ]
  },
  {
   "cell_type": "code",
   "execution_count": null,
   "metadata": {},
   "outputs": [],
   "source": []
  }
 ],
 "metadata": {
  "kernelspec": {
   "display_name": "Python 3",
   "language": "python",
   "name": "python3"
  },
  "language_info": {
   "codemirror_mode": {
    "name": "ipython",
    "version": 3
   },
   "file_extension": ".py",
   "mimetype": "text/x-python",
   "name": "python",
   "nbconvert_exporter": "python",
   "pygments_lexer": "ipython3",
   "version": "3.7.3"
  }
 },
 "nbformat": 4,
 "nbformat_minor": 2
}
