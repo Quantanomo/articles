{
 "cells": [
  {
   "cell_type": "code",
   "execution_count": 32,
   "metadata": {},
   "outputs": [],
   "source": [
    "import pandas as pd\n",
    "import numpy as np\n",
    "import matplotlib.pyplot as plt\n",
    "import seaborn as sns\n",
    "%matplotlib inline\n",
    "\n",
    "from sklearn.tree import DecisionTreeClassifier\n",
    "from sklearn.tree import export_graphviz\n",
    "from sklearn.model_selection import train_test_split\n",
    "from sklearn.metrics import accuracy_score\n",
    "from sklearn.metrics import confusion_matrix\n",
    "\n",
    "# Для жадного перебора\n",
    "from sklearn.model_selection import GridSearchCV\n",
    "\n",
    "from sklearn.metrics import precision_score\n",
    "from sklearn.model_selection import cross_val_score"
   ]
  },
  {
   "cell_type": "code",
   "execution_count": 3,
   "metadata": {},
   "outputs": [],
   "source": [
    "# Для отображения графики\n",
    "from IPython.display import SVG\n",
    "from graphviz import Source\n",
    "from IPython.display import display\n",
    "\n",
    "from IPython.display import HTML\n",
    "style = \"<style>svg{width:50% !important;height:50% !important;}</style>\"\n",
    "#HTML(style)"
   ]
  },
  {
   "cell_type": "markdown",
   "metadata": {},
   "source": [
    "## Загрузка данных"
   ]
  },
  {
   "cell_type": "code",
   "execution_count": 14,
   "metadata": {},
   "outputs": [],
   "source": [
    "# Загружаю датасет из своей директории\n",
    "data = pd.read_csv(\"https://raw.githubusercontent.com/Quantanomo/data_sets/master/BlackFriday.csv\", na_values=\"NaN\")"
   ]
  },
  {
   "cell_type": "markdown",
   "metadata": {},
   "source": [
    "## Предобработка"
   ]
  },
  {
   "cell_type": "code",
   "execution_count": 15,
   "metadata": {},
   "outputs": [
    {
     "data": {
      "text/plain": [
       "1    5364\n",
       "2     456\n",
       "3      62\n",
       "4       7\n",
       "5       2\n",
       "Name: Cat_Purchase, dtype: int64"
      ]
     },
     "execution_count": 15,
     "metadata": {},
     "output_type": "execute_result"
    }
   ],
   "source": [
    "# Удаляю ненужные столбцы\n",
    "data.drop(['Product_ID', 'Product_Category_1', 'Product_Category_2', 'Product_Category_3'], axis = 1, inplace = True)\n",
    "\n",
    "# Группирую по пользователям сумму покупок и удаляю User_id\n",
    "col_names = data.iloc[:,:-1].columns.tolist()\n",
    "data_new = data.groupby(col_names).agg('sum').reset_index()\n",
    "data_new.drop(columns = 'User_ID', inplace = True)\n",
    "\n",
    "data_new.Gender.replace(['F', 'M'], [0,1], inplace = True)\n",
    "data_new.Age.replace(['0-17', '18-25', '26-35', '36-45', '46-50', '51-55', '55+'], [1, 2, 3, 4, 5, 6, 7], inplace = True)\n",
    "data_new.Stay_In_Current_City_Years.replace(['0', '1', '2', '3', '4+'], [1,2,3,4,5], inplace = True)\n",
    "data_new = data_new.drop(columns = 'City_Category').join(pd.get_dummies(data_new.City_Category))\n",
    "\n",
    "step = round((data_new.Purchase.max() - data_new.Purchase.min()) / 5).astype('int')\n",
    "    \n",
    "data_new = data_new.assign(Cat_Purchase = 0)\n",
    "data_new.loc[data_new.Cat_Purchase < 2142643, 'Cat_Purchase'] = 1\n",
    "data_new.loc[(data_new.Purchase >= 2142643) & (data_new.Purchase < 4241178), 'Cat_Purchase'] = 2\n",
    "data_new.loc[(data_new.Purchase >= 4241178) & (data_new.Purchase < 6339713), 'Cat_Purchase'] = 3\n",
    "data_new.loc[(data_new.Purchase >= 6339713) & (data_new.Purchase < 8438248), 'Cat_Purchase'] = 4\n",
    "data_new.loc[data_new.Purchase >= 8438248, 'Cat_Purchase'] = 5\n",
    "\n",
    "data_new.drop(columns = 'Purchase', inplace = True)\n",
    "\n",
    "data_new.Cat_Purchase.value_counts()"
   ]
  },
  {
   "cell_type": "code",
   "execution_count": 16,
   "metadata": {},
   "outputs": [
    {
     "data": {
      "text/plain": [
       "5    5364\n",
       "4    5364\n",
       "3    5364\n",
       "2    5364\n",
       "1    5364\n",
       "Name: Cat_Purchase, dtype: int64"
      ]
     },
     "execution_count": 16,
     "metadata": {},
     "output_type": "execute_result"
    }
   ],
   "source": [
    "# Уровняю группы за счет добавления дублей\n",
    "max_size = data_new['Cat_Purchase'].value_counts().max()\n",
    "lst = [data_new]\n",
    "for class_index, group in data_new.groupby('Cat_Purchase'):\n",
    "    lst.append(group.sample(max_size-len(group), replace=True))\n",
    "frame_new = pd.concat(lst)\n",
    "\n",
    "frame_new.Cat_Purchase.value_counts()"
   ]
  },
  {
   "cell_type": "markdown",
   "metadata": {},
   "source": [
    "## Простая модель"
   ]
  },
  {
   "cell_type": "code",
   "execution_count": 17,
   "metadata": {},
   "outputs": [],
   "source": [
    "# Разделю данные на train и test в пропорции 0,75/0,25\n",
    "x = frame_new.drop('Cat_Purchase', axis=1)\n",
    "y = frame_new.Cat_Purchase\n",
    "\n",
    "x_train, x_test, y_train, y_test = train_test_split(x,y, test_size = 0.25, random_state=42)"
   ]
  },
  {
   "cell_type": "code",
   "execution_count": 19,
   "metadata": {},
   "outputs": [],
   "source": [
    "# Создам модель дерева с дефолтными настройками\n",
    "dt = DecisionTreeClassifier()\n",
    "\n",
    "# Определю параметры для теста лучшей модели\n",
    "parametrs = {'criterion': ['gini', 'entropy'],\n",
    "             'max_depth': range(1,4), \n",
    "             'min_samples_split': range(2,4), \n",
    "             'min_samples_leaf': range(1,6)}"
   ]
  },
  {
   "cell_type": "code",
   "execution_count": 20,
   "metadata": {},
   "outputs": [],
   "source": [
    "# Найду модель с лучшим качеством. Буду использовать жадный алгоритм перебора параметров. \n",
    "# Если необходимо быстро, но не точно - использую RandomizedSearchCV\n",
    "search = GridSearchCV(dt, parametrs, cv=5)\n",
    "search.fit(x_train,y_train)\n",
    "\n",
    "# Определим лучшую модель\n",
    "best_tree = search.best_estimator_"
   ]
  },
  {
   "cell_type": "code",
   "execution_count": 21,
   "metadata": {},
   "outputs": [],
   "source": [
    "# Прогнозирую класс на тестовой выборке\n",
    "predicted = best_tree.predict(x_test)"
   ]
  },
  {
   "cell_type": "code",
   "execution_count": 30,
   "metadata": {},
   "outputs": [
    {
     "data": {
      "text/plain": [
       "[Text(0, 0.5, '1'),\n",
       " Text(0, 1.5, '2'),\n",
       " Text(0, 2.5, '3'),\n",
       " Text(0, 3.5, '4'),\n",
       " Text(0, 4.5, '5')]"
      ]
     },
     "execution_count": 30,
     "metadata": {},
     "output_type": "execute_result"
    },
    {
     "data": {
      "image/png": "[encoded data removed]",
      "text/plain": [
       "<Figure size 720x576 with 2 Axes>"
      ]
     },
     "metadata": {
      "needs_background": "light"
     },
     "output_type": "display_data"
    }
   ],
   "source": [
    "# Строю матрицу ошибок\n",
    "df = confusion_matrix(y_test,predicted)\n",
    "\n",
    "# Визуализируем матрицу\n",
    "plt.figure(figsize=(10, 8))\n",
    "ax = plt.subplot()\n",
    "sns.heatmap(df, annot=True, ax = ax)\n",
    "\n",
    "ax.set_xlabel('Predicted labels')\n",
    "ax.set_ylabel('True labels')\n",
    "ax.set_title('Confusion Matrix')\n",
    "ax.xaxis.set_ticklabels(['1','2','3','4','5'])\n",
    "ax.yaxis.set_ticklabels(['1','2','3','4','5'])"
   ]
  },
  {
   "cell_type": "code",
   "execution_count": 31,
   "metadata": {},
   "outputs": [
    {
     "name": "stdout",
     "output_type": "stream",
     "text": [
      "Точность модели: 0.6320656226696495\n"
     ]
    }
   ],
   "source": [
    "# Смотрю точность модели\n",
    "print('Точность модели:', accuracy_score(y_test,predicted))"
   ]
  },
  {
   "cell_type": "code",
   "execution_count": 42,
   "metadata": {},
   "outputs": [
    {
     "data": {
      "image/svg+xml": [
       "<svg height=\"433pt\" viewBox=\"0.00 0.00 1577.50 433.00\" width=\"1578pt\" xmlns=\"http://www.w3.org/2000/svg\" xmlns:xlink=\"http://www.w3.org/1999/xlink\">\n",
       "<g class=\"graph\" id=\"graph0\" transform=\"scale(1 1) rotate(0) translate(4 429)\">\n",
       "<title>Tree</title>\n",
       "<polygon fill=\"white\" points=\"-4,4 -4,-429 1573.5,-429 1573.5,4 -4,4\" stroke=\"none\"/>\n",
       "<!-- 0 -->\n",
       "<g class=\"node\" id=\"node1\"><title>0</title>\n",
       "<polygon fill=\"#ffffff\" points=\"855,-425 620,-425 620,-342 855,-342 855,-425\" stroke=\"black\"/>\n",
       "<text font-family=\"Times New Roman,serif\" font-size=\"14.00\" text-anchor=\"middle\" x=\"737.5\" y=\"-409.8\">A &lt;= 0.5</text>\n",
       "<text font-family=\"Times New Roman,serif\" font-size=\"14.00\" text-anchor=\"middle\" x=\"737.5\" y=\"-394.8\">entropy = 2.322</text>\n",
       "<text font-family=\"Times New Roman,serif\" font-size=\"14.00\" text-anchor=\"middle\" x=\"737.5\" y=\"-379.8\">samples = 20115</text>\n",
       "<text font-family=\"Times New Roman,serif\" font-size=\"14.00\" text-anchor=\"middle\" x=\"737.5\" y=\"-364.8\">value = [4019, 4007, 4047, 4003, 4039]</text>\n",
       "<text font-family=\"Times New Roman,serif\" font-size=\"14.00\" text-anchor=\"middle\" x=\"737.5\" y=\"-349.8\">class = 3</text>\n",
       "</g>\n",
       "<!-- 1 -->\n",
       "<g class=\"node\" id=\"node2\"><title>1</title>\n",
       "<polygon fill=\"#fbede2\" points=\"688.5,-306 494.5,-306 494.5,-223 688.5,-223 688.5,-306\" stroke=\"black\"/>\n",
       "<text font-family=\"Times New Roman,serif\" font-size=\"14.00\" text-anchor=\"middle\" x=\"591.5\" y=\"-290.8\">C &lt;= 0.5</text>\n",
       "<text font-family=\"Times New Roman,serif\" font-size=\"14.00\" text-anchor=\"middle\" x=\"591.5\" y=\"-275.8\">entropy = 1.488</text>\n",
       "<text font-family=\"Times New Roman,serif\" font-size=\"14.00\" text-anchor=\"middle\" x=\"591.5\" y=\"-260.8\">samples = 7370</text>\n",
       "<text font-family=\"Times New Roman,serif\" font-size=\"14.00\" text-anchor=\"middle\" x=\"591.5\" y=\"-245.8\">value = [3373, 2697, 1300, 0, 0]</text>\n",
       "<text font-family=\"Times New Roman,serif\" font-size=\"14.00\" text-anchor=\"middle\" x=\"591.5\" y=\"-230.8\">class = 1</text>\n",
       "</g>\n",
       "<!-- 0&#45;&gt;1 -->\n",
       "<g class=\"edge\" id=\"edge1\"><title>0-&gt;1</title>\n",
       "<path d=\"M686.846,-341.907C674.955,-332.379 662.189,-322.148 649.987,-312.37\" fill=\"none\" stroke=\"black\"/>\n",
       "<polygon fill=\"black\" points=\"652.057,-309.543 642.064,-306.021 647.679,-315.006 652.057,-309.543\" stroke=\"black\"/>\n",
       "<text font-family=\"Times New Roman,serif\" font-size=\"14.00\" text-anchor=\"middle\" x=\"644.804\" y=\"-327.17\">True</text>\n",
       "</g>\n",
       "<!-- 8 -->\n",
       "<g class=\"node\" id=\"node9\"><title>8</title>\n",
       "<polygon fill=\"#fffeff\" points=\"997.5,-306 769.5,-306 769.5,-223 997.5,-223 997.5,-306\" stroke=\"black\"/>\n",
       "<text font-family=\"Times New Roman,serif\" font-size=\"14.00\" text-anchor=\"middle\" x=\"883.5\" y=\"-290.8\">Occupation &lt;= 15.5</text>\n",
       "<text font-family=\"Times New Roman,serif\" font-size=\"14.00\" text-anchor=\"middle\" x=\"883.5\" y=\"-275.8\">entropy = 2.083</text>\n",
       "<text font-family=\"Times New Roman,serif\" font-size=\"14.00\" text-anchor=\"middle\" x=\"883.5\" y=\"-260.8\">samples = 12745</text>\n",
       "<text font-family=\"Times New Roman,serif\" font-size=\"14.00\" text-anchor=\"middle\" x=\"883.5\" y=\"-245.8\">value = [646, 1310, 2747, 4003, 4039]</text>\n",
       "<text font-family=\"Times New Roman,serif\" font-size=\"14.00\" text-anchor=\"middle\" x=\"883.5\" y=\"-230.8\">class = 5</text>\n",
       "</g>\n",
       "<!-- 0&#45;&gt;8 -->\n",
       "<g class=\"edge\" id=\"edge8\"><title>0-&gt;8</title>\n",
       "<path d=\"M788.154,-341.907C800.045,-332.379 812.811,-322.148 825.013,-312.37\" fill=\"none\" stroke=\"black\"/>\n",
       "<polygon fill=\"black\" points=\"827.321,-315.006 832.936,-306.021 822.943,-309.543 827.321,-315.006\" stroke=\"black\"/>\n",
       "<text font-family=\"Times New Roman,serif\" font-size=\"14.00\" text-anchor=\"middle\" x=\"830.196\" y=\"-327.17\">False</text>\n",
       "</g>\n",
       "<!-- 2 -->\n",
       "<g class=\"node\" id=\"node3\"><title>2</title>\n",
       "<polygon fill=\"#cff5b6\" points=\"376.5,-187 182.5,-187 182.5,-104 376.5,-104 376.5,-187\" stroke=\"black\"/>\n",
       "<text font-family=\"Times New Roman,serif\" font-size=\"14.00\" text-anchor=\"middle\" x=\"279.5\" y=\"-171.8\">Gender &lt;= 0.5</text>\n",
       "<text font-family=\"Times New Roman,serif\" font-size=\"14.00\" text-anchor=\"middle\" x=\"279.5\" y=\"-156.8\">entropy = 1.46</text>\n",
       "<text font-family=\"Times New Roman,serif\" font-size=\"14.00\" text-anchor=\"middle\" x=\"279.5\" y=\"-141.8\">samples = 4977</text>\n",
       "<text font-family=\"Times New Roman,serif\" font-size=\"14.00\" text-anchor=\"middle\" x=\"279.5\" y=\"-126.8\">value = [1029, 2648, 1300, 0, 0]</text>\n",
       "<text font-family=\"Times New Roman,serif\" font-size=\"14.00\" text-anchor=\"middle\" x=\"279.5\" y=\"-111.8\">class = 2</text>\n",
       "</g>\n",
       "<!-- 1&#45;&gt;2 -->\n",
       "<g class=\"edge\" id=\"edge2\"><title>1-&gt;2</title>\n",
       "<path d=\"M494.492,-227.122C460.236,-214.276 421.53,-199.761 386.495,-186.623\" fill=\"none\" stroke=\"black\"/>\n",
       "<polygon fill=\"black\" points=\"387.309,-183.19 376.717,-182.956 384.851,-189.745 387.309,-183.19\" stroke=\"black\"/>\n",
       "</g>\n",
       "<!-- 5 -->\n",
       "<g class=\"node\" id=\"node6\"><title>5</title>\n",
       "<polygon fill=\"#e6843d\" points=\"672,-187 511,-187 511,-104 672,-104 672,-187\" stroke=\"black\"/>\n",
       "<text font-family=\"Times New Roman,serif\" font-size=\"14.00\" text-anchor=\"middle\" x=\"591.5\" y=\"-171.8\">Marital_Status &lt;= 0.5</text>\n",
       "<text font-family=\"Times New Roman,serif\" font-size=\"14.00\" text-anchor=\"middle\" x=\"591.5\" y=\"-156.8\">entropy = 0.144</text>\n",
       "<text font-family=\"Times New Roman,serif\" font-size=\"14.00\" text-anchor=\"middle\" x=\"591.5\" y=\"-141.8\">samples = 2393</text>\n",
       "<text font-family=\"Times New Roman,serif\" font-size=\"14.00\" text-anchor=\"middle\" x=\"591.5\" y=\"-126.8\">value = [2344, 49, 0, 0, 0]</text>\n",
       "<text font-family=\"Times New Roman,serif\" font-size=\"14.00\" text-anchor=\"middle\" x=\"591.5\" y=\"-111.8\">class = 1</text>\n",
       "</g>\n",
       "<!-- 1&#45;&gt;5 -->\n",
       "<g class=\"edge\" id=\"edge5\"><title>1-&gt;5</title>\n",
       "<path d=\"M591.5,-222.907C591.5,-214.649 591.5,-205.864 591.5,-197.302\" fill=\"none\" stroke=\"black\"/>\n",
       "<polygon fill=\"black\" points=\"595,-197.021 591.5,-187.021 588,-197.021 595,-197.021\" stroke=\"black\"/>\n",
       "</g>\n",
       "<!-- 3 -->\n",
       "<g class=\"node\" id=\"node4\"><title>3</title>\n",
       "<polygon fill=\"#d1f6bb\" points=\"167,-68 0,-68 0,-0 167,-0 167,-68\" stroke=\"black\"/>\n",
       "<text font-family=\"Times New Roman,serif\" font-size=\"14.00\" text-anchor=\"middle\" x=\"83.5\" y=\"-52.8\">entropy = 1.253</text>\n",
       "<text font-family=\"Times New Roman,serif\" font-size=\"14.00\" text-anchor=\"middle\" x=\"83.5\" y=\"-37.8\">samples = 918</text>\n",
       "<text font-family=\"Times New Roman,serif\" font-size=\"14.00\" text-anchor=\"middle\" x=\"83.5\" y=\"-22.8\">value = [325, 530, 63, 0, 0]</text>\n",
       "<text font-family=\"Times New Roman,serif\" font-size=\"14.00\" text-anchor=\"middle\" x=\"83.5\" y=\"-7.8\">class = 2</text>\n",
       "</g>\n",
       "<!-- 2&#45;&gt;3 -->\n",
       "<g class=\"edge\" id=\"edge3\"><title>2-&gt;3</title>\n",
       "<path d=\"M206.795,-103.882C188.797,-93.8269 169.578,-83.0892 151.798,-73.1563\" fill=\"none\" stroke=\"black\"/>\n",
       "<polygon fill=\"black\" points=\"153.083,-69.8651 142.646,-68.0433 149.669,-75.9761 153.083,-69.8651\" stroke=\"black\"/>\n",
       "</g>\n",
       "<!-- 4 -->\n",
       "<g class=\"node\" id=\"node5\"><title>4</title>\n",
       "<polygon fill=\"#d6f7c1\" points=\"373.5,-68 185.5,-68 185.5,-0 373.5,-0 373.5,-68\" stroke=\"black\"/>\n",
       "<text font-family=\"Times New Roman,serif\" font-size=\"14.00\" text-anchor=\"middle\" x=\"279.5\" y=\"-52.8\">entropy = 1.45</text>\n",
       "<text font-family=\"Times New Roman,serif\" font-size=\"14.00\" text-anchor=\"middle\" x=\"279.5\" y=\"-37.8\">samples = 4059</text>\n",
       "<text font-family=\"Times New Roman,serif\" font-size=\"14.00\" text-anchor=\"middle\" x=\"279.5\" y=\"-22.8\">value = [704, 2118, 1237, 0, 0]</text>\n",
       "<text font-family=\"Times New Roman,serif\" font-size=\"14.00\" text-anchor=\"middle\" x=\"279.5\" y=\"-7.8\">class = 2</text>\n",
       "</g>\n",
       "<!-- 2&#45;&gt;4 -->\n",
       "<g class=\"edge\" id=\"edge4\"><title>2-&gt;4</title>\n",
       "<path d=\"M279.5,-103.726C279.5,-95.5175 279.5,-86.8595 279.5,-78.56\" fill=\"none\" stroke=\"black\"/>\n",
       "<polygon fill=\"black\" points=\"283,-78.2996 279.5,-68.2996 276,-78.2996 283,-78.2996\" stroke=\"black\"/>\n",
       "</g>\n",
       "<!-- 6 -->\n",
       "<g class=\"node\" id=\"node7\"><title>6</title>\n",
       "<polygon fill=\"#e5823a\" points=\"545.5,-68 391.5,-68 391.5,-0 545.5,-0 545.5,-68\" stroke=\"black\"/>\n",
       "<text font-family=\"Times New Roman,serif\" font-size=\"14.00\" text-anchor=\"middle\" x=\"468.5\" y=\"-52.8\">entropy = 0.059</text>\n",
       "<text font-family=\"Times New Roman,serif\" font-size=\"14.00\" text-anchor=\"middle\" x=\"468.5\" y=\"-37.8\">samples = 1320</text>\n",
       "<text font-family=\"Times New Roman,serif\" font-size=\"14.00\" text-anchor=\"middle\" x=\"468.5\" y=\"-22.8\">value = [1311, 9, 0, 0, 0]</text>\n",
       "<text font-family=\"Times New Roman,serif\" font-size=\"14.00\" text-anchor=\"middle\" x=\"468.5\" y=\"-7.8\">class = 1</text>\n",
       "</g>\n",
       "<!-- 5&#45;&gt;6 -->\n",
       "<g class=\"edge\" id=\"edge6\"><title>5-&gt;6</title>\n",
       "<path d=\"M545.699,-103.726C535.147,-94.3318 523.933,-84.349 513.418,-74.9883\" fill=\"none\" stroke=\"black\"/>\n",
       "<polygon fill=\"black\" points=\"515.701,-72.3347 505.905,-68.2996 511.047,-77.5631 515.701,-72.3347\" stroke=\"black\"/>\n",
       "</g>\n",
       "<!-- 7 -->\n",
       "<g class=\"node\" id=\"node8\"><title>7</title>\n",
       "<polygon fill=\"#e68641\" points=\"725,-68 564,-68 564,-0 725,-0 725,-68\" stroke=\"black\"/>\n",
       "<text font-family=\"Times New Roman,serif\" font-size=\"14.00\" text-anchor=\"middle\" x=\"644.5\" y=\"-52.8\">entropy = 0.23</text>\n",
       "<text font-family=\"Times New Roman,serif\" font-size=\"14.00\" text-anchor=\"middle\" x=\"644.5\" y=\"-37.8\">samples = 1073</text>\n",
       "<text font-family=\"Times New Roman,serif\" font-size=\"14.00\" text-anchor=\"middle\" x=\"644.5\" y=\"-22.8\">value = [1033, 40, 0, 0, 0]</text>\n",
       "<text font-family=\"Times New Roman,serif\" font-size=\"14.00\" text-anchor=\"middle\" x=\"644.5\" y=\"-7.8\">class = 1</text>\n",
       "</g>\n",
       "<!-- 5&#45;&gt;7 -->\n",
       "<g class=\"edge\" id=\"edge7\"><title>5-&gt;7</title>\n",
       "<path d=\"M611.235,-103.726C615.385,-95.1527 619.772,-86.0891 623.951,-77.4555\" fill=\"none\" stroke=\"black\"/>\n",
       "<polygon fill=\"black\" points=\"627.176,-78.8255 628.382,-68.2996 620.875,-75.7758 627.176,-78.8255\" stroke=\"black\"/>\n",
       "</g>\n",
       "<!-- 9 -->\n",
       "<g class=\"node\" id=\"node10\"><title>9</title>\n",
       "<polygon fill=\"#d8d7fa\" points=\"987.5,-187 779.5,-187 779.5,-104 987.5,-104 987.5,-187\" stroke=\"black\"/>\n",
       "<text font-family=\"Times New Roman,serif\" font-size=\"14.00\" text-anchor=\"middle\" x=\"883.5\" y=\"-171.8\">Occupation &lt;= 2.5</text>\n",
       "<text font-family=\"Times New Roman,serif\" font-size=\"14.00\" text-anchor=\"middle\" x=\"883.5\" y=\"-156.8\">entropy = 1.771</text>\n",
       "<text font-family=\"Times New Roman,serif\" font-size=\"14.00\" text-anchor=\"middle\" x=\"883.5\" y=\"-141.8\">samples = 6455</text>\n",
       "<text font-family=\"Times New Roman,serif\" font-size=\"14.00\" text-anchor=\"middle\" x=\"883.5\" y=\"-126.8\">value = [538, 1073, 1969, 2875, 0]</text>\n",
       "<text font-family=\"Times New Roman,serif\" font-size=\"14.00\" text-anchor=\"middle\" x=\"883.5\" y=\"-111.8\">class = 4</text>\n",
       "</g>\n",
       "<!-- 8&#45;&gt;9 -->\n",
       "<g class=\"edge\" id=\"edge9\"><title>8-&gt;9</title>\n",
       "<path d=\"M883.5,-222.907C883.5,-214.649 883.5,-205.864 883.5,-197.302\" fill=\"none\" stroke=\"black\"/>\n",
       "<polygon fill=\"black\" points=\"887,-197.021 883.5,-187.021 880,-197.021 887,-197.021\" stroke=\"black\"/>\n",
       "</g>\n",
       "<!-- 12 -->\n",
       "<g class=\"node\" id=\"node13\"><title>12</title>\n",
       "<polygon fill=\"#f08fdb\" points=\"1367,-187 1152,-187 1152,-104 1367,-104 1367,-187\" stroke=\"black\"/>\n",
       "<text font-family=\"Times New Roman,serif\" font-size=\"14.00\" text-anchor=\"middle\" x=\"1259.5\" y=\"-171.8\">Occupation &lt;= 17.5</text>\n",
       "<text font-family=\"Times New Roman,serif\" font-size=\"14.00\" text-anchor=\"middle\" x=\"1259.5\" y=\"-156.8\">entropy = 1.507</text>\n",
       "<text font-family=\"Times New Roman,serif\" font-size=\"14.00\" text-anchor=\"middle\" x=\"1259.5\" y=\"-141.8\">samples = 6290</text>\n",
       "<text font-family=\"Times New Roman,serif\" font-size=\"14.00\" text-anchor=\"middle\" x=\"1259.5\" y=\"-126.8\">value = [108, 237, 778, 1128, 4039]</text>\n",
       "<text font-family=\"Times New Roman,serif\" font-size=\"14.00\" text-anchor=\"middle\" x=\"1259.5\" y=\"-111.8\">class = 5</text>\n",
       "</g>\n",
       "<!-- 8&#45;&gt;12 -->\n",
       "<g class=\"edge\" id=\"edge12\"><title>8-&gt;12</title>\n",
       "<path d=\"M997.588,-227.999C1043.39,-213.748 1096.14,-197.332 1142.25,-182.984\" fill=\"none\" stroke=\"black\"/>\n",
       "<polygon fill=\"black\" points=\"1143.48,-186.268 1151.99,-179.955 1141.4,-179.584 1143.48,-186.268\" stroke=\"black\"/>\n",
       "</g>\n",
       "<!-- 10 -->\n",
       "<g class=\"node\" id=\"node11\"><title>10</title>\n",
       "<polygon fill=\"#aff4e8\" points=\"917.5,-68 743.5,-68 743.5,-0 917.5,-0 917.5,-68\" stroke=\"black\"/>\n",
       "<text font-family=\"Times New Roman,serif\" font-size=\"14.00\" text-anchor=\"middle\" x=\"830.5\" y=\"-52.8\">entropy = 1.346</text>\n",
       "<text font-family=\"Times New Roman,serif\" font-size=\"14.00\" text-anchor=\"middle\" x=\"830.5\" y=\"-37.8\">samples = 1365</text>\n",
       "<text font-family=\"Times New Roman,serif\" font-size=\"14.00\" text-anchor=\"middle\" x=\"830.5\" y=\"-22.8\">value = [167, 405, 793, 0, 0]</text>\n",
       "<text font-family=\"Times New Roman,serif\" font-size=\"14.00\" text-anchor=\"middle\" x=\"830.5\" y=\"-7.8\">class = 3</text>\n",
       "</g>\n",
       "<!-- 9&#45;&gt;10 -->\n",
       "<g class=\"edge\" id=\"edge10\"><title>9-&gt;10</title>\n",
       "<path d=\"M863.765,-103.726C859.615,-95.1527 855.228,-86.0891 851.049,-77.4555\" fill=\"none\" stroke=\"black\"/>\n",
       "<polygon fill=\"black\" points=\"854.125,-75.7758 846.618,-68.2996 847.824,-78.8255 854.125,-75.7758\" stroke=\"black\"/>\n",
       "</g>\n",
       "<!-- 11 -->\n",
       "<g class=\"node\" id=\"node12\"><title>11</title>\n",
       "<polygon fill=\"#aaa9f4\" points=\"1137,-68 936,-68 936,-0 1137,-0 1137,-68\" stroke=\"black\"/>\n",
       "<text font-family=\"Times New Roman,serif\" font-size=\"14.00\" text-anchor=\"middle\" x=\"1036.5\" y=\"-52.8\">entropy = 1.614</text>\n",
       "<text font-family=\"Times New Roman,serif\" font-size=\"14.00\" text-anchor=\"middle\" x=\"1036.5\" y=\"-37.8\">samples = 5090</text>\n",
       "<text font-family=\"Times New Roman,serif\" font-size=\"14.00\" text-anchor=\"middle\" x=\"1036.5\" y=\"-22.8\">value = [371, 668, 1176, 2875, 0]</text>\n",
       "<text font-family=\"Times New Roman,serif\" font-size=\"14.00\" text-anchor=\"middle\" x=\"1036.5\" y=\"-7.8\">class = 4</text>\n",
       "</g>\n",
       "<!-- 9&#45;&gt;11 -->\n",
       "<g class=\"edge\" id=\"edge11\"><title>9-&gt;11</title>\n",
       "<path d=\"M940.472,-103.726C953.98,-94.0582 968.36,-83.767 981.766,-74.172\" fill=\"none\" stroke=\"black\"/>\n",
       "<polygon fill=\"black\" points=\"983.877,-76.9657 989.972,-68.2996 979.803,-71.2734 983.877,-76.9657\" stroke=\"black\"/>\n",
       "</g>\n",
       "<!-- 13 -->\n",
       "<g class=\"node\" id=\"node14\"><title>13</title>\n",
       "<polygon fill=\"#f5b6e8\" points=\"1363.5,-68 1155.5,-68 1155.5,-0 1363.5,-0 1363.5,-68\" stroke=\"black\"/>\n",
       "<text font-family=\"Times New Roman,serif\" font-size=\"14.00\" text-anchor=\"middle\" x=\"1259.5\" y=\"-52.8\">entropy = 1.479</text>\n",
       "<text font-family=\"Times New Roman,serif\" font-size=\"14.00\" text-anchor=\"middle\" x=\"1259.5\" y=\"-37.8\">samples = 3501</text>\n",
       "<text font-family=\"Times New Roman,serif\" font-size=\"14.00\" text-anchor=\"middle\" x=\"1259.5\" y=\"-22.8\">value = [64, 114, 187, 1128, 2008]</text>\n",
       "<text font-family=\"Times New Roman,serif\" font-size=\"14.00\" text-anchor=\"middle\" x=\"1259.5\" y=\"-7.8\">class = 5</text>\n",
       "</g>\n",
       "<!-- 12&#45;&gt;13 -->\n",
       "<g class=\"edge\" id=\"edge13\"><title>12-&gt;13</title>\n",
       "<path d=\"M1259.5,-103.726C1259.5,-95.5175 1259.5,-86.8595 1259.5,-78.56\" fill=\"none\" stroke=\"black\"/>\n",
       "<polygon fill=\"black\" points=\"1263,-78.2996 1259.5,-68.2996 1256,-78.2996 1263,-78.2996\" stroke=\"black\"/>\n",
       "</g>\n",
       "<!-- 14 -->\n",
       "<g class=\"node\" id=\"node15\"><title>14</title>\n",
       "<polygon fill=\"#ee7dd6\" points=\"1569.5,-68 1381.5,-68 1381.5,-0 1569.5,-0 1569.5,-68\" stroke=\"black\"/>\n",
       "<text font-family=\"Times New Roman,serif\" font-size=\"14.00\" text-anchor=\"middle\" x=\"1475.5\" y=\"-52.8\">entropy = 1.101</text>\n",
       "<text font-family=\"Times New Roman,serif\" font-size=\"14.00\" text-anchor=\"middle\" x=\"1475.5\" y=\"-37.8\">samples = 2789</text>\n",
       "<text font-family=\"Times New Roman,serif\" font-size=\"14.00\" text-anchor=\"middle\" x=\"1475.5\" y=\"-22.8\">value = [44, 123, 591, 0, 2031]</text>\n",
       "<text font-family=\"Times New Roman,serif\" font-size=\"14.00\" text-anchor=\"middle\" x=\"1475.5\" y=\"-7.8\">class = 5</text>\n",
       "</g>\n",
       "<!-- 12&#45;&gt;14 -->\n",
       "<g class=\"edge\" id=\"edge14\"><title>12-&gt;14</title>\n",
       "<path d=\"M1339.62,-103.882C1359.82,-93.6424 1381.42,-82.695 1401.31,-72.6104\" fill=\"none\" stroke=\"black\"/>\n",
       "<polygon fill=\"black\" points=\"1402.98,-75.6868 1410.32,-68.0433 1399.82,-69.4432 1402.98,-75.6868\" stroke=\"black\"/>\n",
       "</g>\n",
       "</g>\n",
       "</svg>"
      ],
      "text/plain": [
       "<IPython.core.display.SVG object>"
      ]
     },
     "metadata": {},
     "output_type": "display_data"
    }
   ],
   "source": [
    "# Визуализация дерева\n",
    "graph = Source(export_graphviz(best_tree, out_file=None\n",
    "                                   , feature_names = list(x), class_names=['1','2','3','4','5']\n",
    "                                   , filled = True))\n",
    "display(SVG(graph.pipe(format='svg')))"
   ]
  },
  {
   "cell_type": "code",
   "execution_count": 43,
   "metadata": {},
   "outputs": [
    {
     "data": {
      "text/plain": [
       "'dtree_render.png'"
      ]
     },
     "execution_count": 43,
     "metadata": {},
     "output_type": "execute_result"
    }
   ],
   "source": [
    "graph = Source(export_graphviz(best_tree, out_file=None\n",
    "                                   , feature_names = list(x), class_names=['1','2','3','4','5']\n",
    "                                   , filled = True))\n",
    "graph.format = 'png'\n",
    "graph.render('dtree_render',view=True)"
   ]
  },
  {
   "cell_type": "markdown",
   "metadata": {},
   "source": [
    "## Модель посложнее"
   ]
  },
  {
   "cell_type": "code",
   "execution_count": 50,
   "metadata": {},
   "outputs": [],
   "source": [
    "# Создам модель дерева с дефолтными настройками\n",
    "dt = DecisionTreeClassifier()\n",
    "\n",
    "# Определю параметры для теста лучшей модели\n",
    "parametrs = {'criterion': ['gini', 'entropy'],\n",
    "             'max_depth': range(10,25), \n",
    "             'min_samples_split': range(2,8), \n",
    "             'min_samples_leaf': range(1,5)}"
   ]
  },
  {
   "cell_type": "code",
   "execution_count": 51,
   "metadata": {},
   "outputs": [],
   "source": [
    "# Найду модель с лучшим качеством. Буду использовать жадный алгоритм перебора параметров. \n",
    "# Если необходимо быстро, но не точно - использую RandomizedSearchCV\n",
    "search = GridSearchCV(dt, parametrs, cv=5)\n",
    "search.fit(x_train,y_train)\n",
    "\n",
    "# Определим лучшую модель\n",
    "best_tree = search.best_estimator_"
   ]
  },
  {
   "cell_type": "code",
   "execution_count": 52,
   "metadata": {},
   "outputs": [
    {
     "data": {
      "text/plain": [
       "[Text(0, 0.5, '1'),\n",
       " Text(0, 1.5, '2'),\n",
       " Text(0, 2.5, '3'),\n",
       " Text(0, 3.5, '4'),\n",
       " Text(0, 4.5, '5')]"
      ]
     },
     "execution_count": 52,
     "metadata": {},
     "output_type": "execute_result"
    },
    {
     "data": {
      "image/png": "[encoded data removed]",
      "text/plain": [
       "<Figure size 720x576 with 2 Axes>"
      ]
     },
     "metadata": {
      "needs_background": "light"
     },
     "output_type": "display_data"
    }
   ],
   "source": [
    "# Прогнозирую класс на тестовой выборке\n",
    "predicted = best_tree.predict(x_test)\n",
    "\n",
    "# Строю матрицу ошибок\n",
    "df = confusion_matrix(y_test,predicted)\n",
    "\n",
    "# Визуализируем матрицу\n",
    "plt.figure(figsize=(10, 8))\n",
    "ax = plt.subplot()\n",
    "sns.heatmap(df, annot=True, ax = ax)\n",
    "\n",
    "ax.set_xlabel('Predicted labels')\n",
    "ax.set_ylabel('True labels')\n",
    "ax.set_title('Confusion Matrix')\n",
    "ax.xaxis.set_ticklabels(['1','2','3','4','5'])\n",
    "ax.yaxis.set_ticklabels(['1','2','3','4','5'])"
   ]
  },
  {
   "cell_type": "code",
   "execution_count": 53,
   "metadata": {},
   "outputs": [
    {
     "name": "stdout",
     "output_type": "stream",
     "text": [
      "Точность модели: 0.9413870246085011\n"
     ]
    }
   ],
   "source": [
    "# Смотрю точность модели\n",
    "print('Точность модели:', accuracy_score(y_test,predicted))"
   ]
  },
  {
   "cell_type": "code",
   "execution_count": 54,
   "metadata": {},
   "outputs": [
    {
     "name": "stderr",
     "output_type": "stream",
     "text": [
      "dot: graph is too large for cairo-renderer bitmaps. Scaling by 0.504317 to fit\r\n"
     ]
    },
    {
     "data": {
      "text/plain": [
       "'dtree_render_2.png'"
      ]
     },
     "execution_count": 54,
     "metadata": {},
     "output_type": "execute_result"
    }
   ],
   "source": [
    "graph = Source(export_graphviz(best_tree, out_file=None\n",
    "                                   , feature_names = list(x), class_names=['1','2','3','4','5']\n",
    "                                   , filled = True))\n",
    "graph.format = 'png'\n",
    "graph.render('dtree_render_2',view=True)"
   ]
  },
  {
   "cell_type": "code",
   "execution_count": null,
   "metadata": {},
   "outputs": [],
   "source": []
  }
 ],
 "metadata": {
  "kernelspec": {
   "display_name": "Python 3",
   "language": "python",
   "name": "python3"
  },
  "language_info": {
   "codemirror_mode": {
    "name": "ipython",
    "version": 3
   },
   "file_extension": ".py",
   "mimetype": "text/x-python",
   "name": "python",
   "nbconvert_exporter": "python",
   "pygments_lexer": "ipython3",
   "version": "3.7.3"
  }
 },
 "nbformat": 4,
 "nbformat_minor": 2
}
